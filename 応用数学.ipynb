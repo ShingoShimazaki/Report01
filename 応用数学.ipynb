{
 "cells": [
  {
   "cell_type": "markdown",
   "metadata": {},
   "source": [
    "[![バナー画像](http://ai999.careers/bnr_jdla.png)](http://study-ai.com/jdla/)"
   ]
  },
  {
   "cell_type": "markdown",
   "metadata": {},
   "source": [
    "URL: <http://study-ai.com/jdla/>"
   ]
  },
  {
   "cell_type": "markdown",
   "metadata": {},
   "source": [
    "# 応用数学"
   ]
  },
  {
   "cell_type": "markdown",
   "metadata": {},
   "source": [
    "## 第一章　線形代数"
   ]
  },
  {
   "cell_type": "markdown",
   "metadata": {},
   "source": [
    "<b>要点まとめ</b>"
   ]
  },
  {
   "cell_type": "markdown",
   "metadata": {},
   "source": [
    "<b>機械学習の分野では、与えられたデータの基本的性質を見出す処理として、分散・共分散行列に対する固有値・固有ベクトルの算出がしばしば行われる。ここでは、固有値計算や行列式計算、固有値分解や特異値分解等の線形代数の基本的な計算方法を示している。</b>"
   ]
  },
  {
   "cell_type": "markdown",
   "metadata": {},
   "source": [
    "### 1) 固有値・固有ベクトルの求め方を確認する。"
   ]
  },
  {
   "cell_type": "markdown",
   "metadata": {},
   "source": [
    "#### 1-1-1 スカラーとベクトルの違い"
   ]
  },
  {
   "cell_type": "markdown",
   "metadata": {},
   "source": [
    "スカラー：ベクトル空間のベクトルに対比するものとしての実数。ベクトルの定数倍係数になれる。<br>\n",
    "ベクトル：「大きさ」と「向き」を持った量。矢印で図示される。"
   ]
  },
  {
   "cell_type": "markdown",
   "metadata": {},
   "source": [
    "#### 1-1-2 行列"
   ]
  },
  {
   "cell_type": "markdown",
   "metadata": {},
   "source": [
    "・スカラーを表にしたもの<br>\n",
    "・ベクトルを並べたもの<br>"
   ]
  },
  {
   "cell_type": "markdown",
   "metadata": {},
   "source": [
    "$$\n",
    "A=\n",
    "\\left[\n",
    "    \\begin{matrix} a_{11} & a_{12} & a_{13} \\\\ a_{21} & a_{22} & a_{23} \\\\ a_{31} & a_{32} & a_{33} \\end{matrix}\n",
    "\\right]\n",
    "$$"
   ]
  },
  {
   "cell_type": "markdown",
   "metadata": {},
   "source": [
    "#### 1-1-3 行列とベクトルの積"
   ]
  },
  {
   "cell_type": "markdown",
   "metadata": {},
   "source": [
    "2行2列の行列と2行1列のベクトルの積は以下のように計算される。"
   ]
  },
  {
   "cell_type": "markdown",
   "metadata": {},
   "source": [
    "$$\n",
    "\\left[\n",
    "\\begin{matrix} 6 & 4 \\\\ 3 & 5 \\end{matrix}\n",
    "\\right]\n",
    "\\left[\n",
    "\\begin{matrix} 1 \\\\ 2 \\end{matrix}\n",
    "\\right]\n",
    "=\n",
    "\\left[\n",
    "\\begin{matrix} 6*1 + 4*2 \\\\ 3*1 + 5*2 \\end{matrix}\n",
    "\\right]\n",
    "=\n",
    "\\left[\n",
    "\\begin{matrix} 6 + 8 \\\\ 3 + 10 \\end{matrix}\n",
    "\\right]\n",
    "=\n",
    "\\left[\n",
    "\\begin{matrix} 14 \\\\ 13 \\end{matrix}\n",
    "\\right]\n",
    "$$"
   ]
  },
  {
   "cell_type": "markdown",
   "metadata": {},
   "source": [
    "#### 1-1-4 行列の積"
   ]
  },
  {
   "cell_type": "markdown",
   "metadata": {},
   "source": [
    "3行3列同士の行列の積は以下のように定義される。"
   ]
  },
  {
   "cell_type": "markdown",
   "metadata": {},
   "source": [
    "$$\n",
    "\\left[\n",
    "\\begin{matrix} a_{11} & a_{12} & a_{13} \\\\ a_{21} & a_{22} & a_{23} \\\\ a_{31} & a_{32} & a_{33} \\end{matrix}\n",
    "\\right]\n",
    "\\left[\n",
    "\\begin{matrix} b_{11} & b_{12} & b_{13} \\\\ b_{21} & b_{22} & b_{23} \\\\ b_{31} & b_{32} & b_{33} \\end{matrix}\n",
    "\\right]\n",
    "=\n",
    "\\left[\n",
    "\\begin{matrix} a_{11}b_{11} + a_{12}b_{21} + a_{13}b_{31} &\n",
    "               a_{11}b_{12} + a_{12}b_{22} + a_{13}b_{32} &\n",
    "               a_{11}b_{13} + a_{12}b_{23} + a_{13}b_{33} \\\\\n",
    "               a_{21}b_{11} + a_{22}b_{21} + a_{23}b_{31} &\n",
    "               a_{21}b_{12} + a_{22}b_{22} + a_{23}b_{32} &\n",
    "               a_{31}b_{13} + a_{32}b_{23} + a_{33}b_{33} \\\\\n",
    "               a_{31}b_{11} + a_{32}b_{21} + a_{33}b_{31} & \n",
    "               a_{31}b_{12} + a_{32}b_{22} + a_{33}b_{32} &\n",
    "               a_{31}b_{13} + a_{32}b_{23} + a_{33}b_{33} \\end{matrix}\n",
    "\\right]\n",
    "$$"
   ]
  },
  {
   "cell_type": "markdown",
   "metadata": {},
   "source": [
    "＜例題＞"
   ]
  },
  {
   "cell_type": "markdown",
   "metadata": {},
   "source": [
    "$$\n",
    "    \\left[\n",
    "        \\begin{matrix} 2 & 1 \\\\ 4 & 1 \\end{matrix}\n",
    "    \\right]\n",
    "    \\left[\n",
    "        \\begin{matrix} 1 & 3 \\\\ 3 & 1 \\end{matrix}\n",
    "    \\right]\n",
    "= \n",
    "    \\left[\n",
    "        \\begin{matrix} 2*1 + 1*3 & 2*3 + 1*1 \\\\ 4*1 + 1*3 & 4*3 + 1*1 \\end{matrix}\n",
    "    \\right]\n",
    "= \n",
    "    \\left[\n",
    "        \\begin{matrix} 5 & 7 \\\\ 7 & 13 \\end{matrix}\n",
    "    \\right]\n",
    "$$"
   ]
  },
  {
   "cell_type": "markdown",
   "metadata": {},
   "source": [
    "#### 1-1-5 連立1次方程式"
   ]
  },
  {
   "cell_type": "markdown",
   "metadata": {},
   "source": [
    "$$\n",
    "\\begin{cases}\n",
    "    x_{1} + 2x_{2} = 3 \\\\\n",
    "    2x_{1} + 5x_{2} = 5\n",
    "\\end{cases}\n",
    "$$"
   ]
  },
  {
   "cell_type": "markdown",
   "metadata": {},
   "source": [
    "上の連立方程式を行列形式で表現すると以下のようになる。"
   ]
  },
  {
   "cell_type": "markdown",
   "metadata": {},
   "source": [
    "$$\n",
    "\\left[\n",
    "\\begin{matrix} 1 & 2 \\\\ 2 & 5 \\end{matrix}\n",
    "\\right]\n",
    "\\left[\n",
    "\\begin{matrix} x_{1} \\\\ x_{2} \\end{matrix}\n",
    "\\right]\n",
    "=\n",
    "\\left[\n",
    "\\begin{matrix} 3 \\\\ 5 \\end{matrix}\n",
    "\\right]\n",
    "$$"
   ]
  },
  {
   "cell_type": "markdown",
   "metadata": {},
   "source": [
    "「[行列の基本変形](https://ja.wikipedia.org/wiki/%E8%A1%8C%E5%88%97%E3%81%AE%E5%9F%BA%E6%9C%AC%E5%A4%89%E5%BD%A2)」を用いて左辺の係数行列を単位行列になるまで変形することにより、右辺に連立方程式の解を得ることが出来る。"
   ]
  },
  {
   "cell_type": "markdown",
   "metadata": {},
   "source": [
    "#### 1-1-6 逆行列"
   ]
  },
  {
   "cell_type": "markdown",
   "metadata": {},
   "source": [
    "$$\n",
    "A = \n",
    "\\left[\n",
    "\\begin{matrix} a & b \\\\ c & d \\end{matrix}\n",
    "\\right]\n",
    "$$"
   ]
  },
  {
   "cell_type": "markdown",
   "metadata": {},
   "source": [
    "上記行列Aにおいて、ad-bc≒0のとき、"
   ]
  },
  {
   "cell_type": "markdown",
   "metadata": {},
   "source": [
    "$$\n",
    "A^{-1} = \n",
    "\\frac{1}{ad-bc}\n",
    "\\left[\n",
    "\\begin{matrix} a & b \\\\ c & d \\end{matrix}\n",
    "\\right]\n",
    "$$"
   ]
  },
  {
   "cell_type": "markdown",
   "metadata": {},
   "source": [
    "をAの**逆行列**という。逆行列が定義出来るとき、Aを**正則である**、または**正則行列**と呼ぶ。逆行列は元の行列と掛けたときに**単位行列**となる性質がある。"
   ]
  },
  {
   "cell_type": "markdown",
   "metadata": {},
   "source": [
    "$$\n",
    "    AA^{-1} = A^{-1}A = I\n",
    "$$"
   ]
  },
  {
   "cell_type": "markdown",
   "metadata": {},
   "source": [
    "　(Iは単位行列)"
   ]
  },
  {
   "cell_type": "markdown",
   "metadata": {},
   "source": [
    "逆行列は**[掃き出し法](https://ja.wikipedia.org/wiki/%E3%82%AC%E3%82%A6%E3%82%B9%E3%81%AE%E6%B6%88%E5%8E%BB%E6%B3%95)**（ガウスの消去法）により求めることが出来る。"
   ]
  },
  {
   "cell_type": "markdown",
   "metadata": {},
   "source": [
    "#### 1-1-7 逆行列が存在しない条件"
   ]
  },
  {
   "cell_type": "markdown",
   "metadata": {},
   "source": [
    "$$\n",
    "A = \n",
    "\\left[\n",
    "\\begin{matrix} a & b \\\\ c & d \\end{matrix}\n",
    "\\right]\n",
    "$$"
   ]
  },
  {
   "cell_type": "markdown",
   "metadata": {},
   "source": [
    "において、ad-bc=0となるような行列は、逆行列が定義できない（正則ではない）。"
   ]
  },
  {
   "cell_type": "markdown",
   "metadata": {},
   "source": [
    "$$\n",
    "\\left|\n",
    "    \\begin{matrix} a & b \\\\ c & d \\end{matrix}\n",
    "\\right|\n",
    "= ad - bc\n",
    "$$"
   ]
  },
  {
   "cell_type": "markdown",
   "metadata": {},
   "source": [
    "を行列Aの**行列式**といい、行列式が0か否かが逆行列の存在有無の判定条件となる。"
   ]
  },
  {
   "cell_type": "markdown",
   "metadata": {},
   "source": [
    "$$\n",
    "A=\n",
    "\\left[\n",
    "    \\begin{matrix} a_{11} & a_{12} & a_{13} \\\\ a_{21} & a_{22} & a_{23} \\\\ a_{31} & a_{32} & a_{33} \\end{matrix}\n",
    "\\right]\n",
    "$$"
   ]
  },
  {
   "cell_type": "markdown",
   "metadata": {},
   "source": [
    "のような3行3列の行列の行列式は以下の通り。"
   ]
  },
  {
   "cell_type": "markdown",
   "metadata": {},
   "source": [
    "$$\n",
    "\\left|\n",
    "    \\begin{matrix} a_{11} & a_{12} & a_{13} \\\\ a_{21} & a_{22} & a_{23} \\\\ a_{31} & a_{32} & a_{33} \\end{matrix}\n",
    "\\right|\n",
    "=\n",
    "a_{11}\n",
    "\\left|\n",
    "    \\begin{matrix} a_{22} & a_{23} \\\\ a_{32} & a_{33} \\end{matrix}\n",
    "\\right|\n",
    "-a_{21}\n",
    "\\left|\n",
    "    \\begin{matrix} a_{12} & a_{13} \\\\ a_{32} & a_{33} \\end{matrix}\n",
    "\\right|\n",
    "+a_{31}\n",
    "\\left|\n",
    "    \\begin{matrix} a_{12} & a_{13} \\\\ a_{22} & a_{23} \\end{matrix}\n",
    "\\right|\n",
    "$$"
   ]
  },
  {
   "cell_type": "markdown",
   "metadata": {},
   "source": [
    "＜例題1-1-7_1＞"
   ]
  },
  {
   "cell_type": "markdown",
   "metadata": {},
   "source": [
    "以下の行列式を求めよ"
   ]
  },
  {
   "cell_type": "markdown",
   "metadata": {},
   "source": [
    "$$\n",
    "\\left|\n",
    "    \\begin{matrix} 1 & 0 & -1 \\\\ 3 & 1 & 0 \\\\ 2 & -1 & 1 \\end{matrix}\n",
    "\\right|\n",
    "$$"
   ]
  },
  {
   "cell_type": "markdown",
   "metadata": {},
   "source": [
    "＜解答1-1-7_1＞"
   ]
  },
  {
   "cell_type": "markdown",
   "metadata": {},
   "source": [
    "$$\n",
    "\\left|\n",
    "    \\begin{matrix} 1 & 0 & -1 \\\\ 3 & 1 & 0 \\\\ 2 & -1 & 1 \\end{matrix}\n",
    "\\right|\n",
    "=\n",
    "1\n",
    "\\left|\n",
    "    \\begin{matrix} 1 & 0 \\\\ -1 & 1 \\end{matrix}\n",
    "\\right|\n",
    "-3\n",
    "\\left|\n",
    "    \\begin{matrix} 0 & -1 \\\\ -1 & 1 \\end{matrix}\n",
    "\\right|\n",
    "+2\n",
    "\\left|\n",
    "    \\begin{matrix} 0 & -1 \\\\ 1 & 0 \\end{matrix}\n",
    "\\right|\n",
    "= 1*(1-0) - 3*(0-1) + 2*(0+1) = 6\n",
    "$$"
   ]
  },
  {
   "cell_type": "markdown",
   "metadata": {},
   "source": [
    "#### 1-1-8 固有値と固有ベクトル"
   ]
  },
  {
   "cell_type": "markdown",
   "metadata": {},
   "source": [
    "ある行列Aに対して、以下の式が成り立つような、ベクトルxと係数λが存在する場合を考える。"
   ]
  },
  {
   "cell_type": "markdown",
   "metadata": {},
   "source": [
    "$$\n",
    "A\\vec{x} = \\lambda\\vec{x}\n",
    "$$"
   ]
  },
  {
   "cell_type": "markdown",
   "metadata": {},
   "source": [
    "このようなベクトルを**固有ベクトル**といい、このときのLを**固有値**という。"
   ]
  },
  {
   "cell_type": "markdown",
   "metadata": {},
   "source": [
    "＜例題1-1-8_1＞"
   ]
  },
  {
   "cell_type": "markdown",
   "metadata": {},
   "source": [
    "$$\n",
    "A = \n",
    "\\left[\n",
    "    \\begin{matrix} 1 & 4 \\\\ 2 & 3 \\end{matrix}\n",
    "\\right]\n",
    "$$"
   ]
  },
  {
   "cell_type": "markdown",
   "metadata": {},
   "source": [
    "$$\n",
    "\\vec{x} =\n",
    "\\left[\n",
    "    \\begin{matrix} 1 \\\\ 1 \\end{matrix}\n",
    "\\right]\n",
    "$$"
   ]
  },
  {
   "cell_type": "markdown",
   "metadata": {},
   "source": [
    "の固有値を求めよ。"
   ]
  },
  {
   "cell_type": "markdown",
   "metadata": {},
   "source": [
    "＜解答1-1-8_1＞"
   ]
  },
  {
   "cell_type": "markdown",
   "metadata": {},
   "source": [
    "$$\n",
    "\\left[\n",
    "    \\begin{matrix} 1 & 4 \\\\ 1 & 1 \\end{matrix}\n",
    "\\right]\n",
    "\\left[\n",
    "    \\begin{matrix} 1 \\\\ 1 \\end{matrix}\n",
    "\\right]\n",
    "=\n",
    "\\left[\n",
    "    \\begin{matrix} 5 \\\\ 5 \\end{matrix}\n",
    "\\right]\n",
    "= 5\n",
    "\\left[\n",
    "    \\begin{matrix} 1 \\\\ 1 \\end{matrix}\n",
    "\\right]\n",
    "$$"
   ]
  },
  {
   "cell_type": "markdown",
   "metadata": {},
   "source": [
    "より、固有値（の内の1つ）は"
   ]
  },
  {
   "cell_type": "markdown",
   "metadata": {},
   "source": [
    "$$\n",
    "    \\lambda = 5\n",
    "$$"
   ]
  },
  {
   "cell_type": "markdown",
   "metadata": {},
   "source": [
    "となる。"
   ]
  },
  {
   "cell_type": "markdown",
   "metadata": {},
   "source": [
    "＜例題1-1-8_2＞"
   ]
  },
  {
   "cell_type": "markdown",
   "metadata": {},
   "source": [
    "$$\n",
    "A=\n",
    "\\left[\n",
    "    \\begin{matrix} 3 & 2 & 0 \\\\ 0 & 2 & 0 \\\\ 0 & 0 & 1 \\end{matrix}\n",
    "\\right]\n",
    "$$"
   ]
  },
  {
   "cell_type": "markdown",
   "metadata": {},
   "source": [
    "の固有値、固有ベクトルを求めよ。"
   ]
  },
  {
   "cell_type": "markdown",
   "metadata": {},
   "source": [
    "＜解答1-1-8_2＞"
   ]
  },
  {
   "cell_type": "markdown",
   "metadata": {},
   "source": [
    "$$\n",
    "A\\vec{x} = \\lambda\\vec{x}\n",
    "$$"
   ]
  },
  {
   "cell_type": "markdown",
   "metadata": {},
   "source": [
    "の右辺を左辺に移行して"
   ]
  },
  {
   "cell_type": "markdown",
   "metadata": {},
   "source": [
    "$$\n",
    "(A - \\lambda I)\\vec{x} = \\vec{0}\n",
    "$$"
   ]
  },
  {
   "cell_type": "markdown",
   "metadata": {},
   "source": [
    "となり、ここで"
   ]
  },
  {
   "cell_type": "markdown",
   "metadata": {},
   "source": [
    "$$\n",
    "\\vec{x} \\neq \\vec{0}\n",
    "$$"
   ]
  },
  {
   "cell_type": "markdown",
   "metadata": {},
   "source": [
    "であるから、"
   ]
  },
  {
   "cell_type": "markdown",
   "metadata": {},
   "source": [
    "$$\n",
    "|A - \\lambda I| = 0\n",
    "$$"
   ]
  },
  {
   "cell_type": "markdown",
   "metadata": {},
   "source": [
    "となる。この行列式を計算すると"
   ]
  },
  {
   "cell_type": "markdown",
   "metadata": {},
   "source": [
    "$$\n",
    "\\left|\n",
    "    \\begin{matrix} 3-\\lambda & 2 & 0 \\\\ 0 & 2-\\lambda & 0 \\\\ 0 & 0 & 1-\\lambda \\end{matrix}\n",
    "\\right|\n",
    "= (3-\\lambda)(2-\\lambda)(1-\\lambda) = 0\n",
    "$$"
   ]
  },
  {
   "cell_type": "markdown",
   "metadata": {},
   "source": [
    "となるので、固有値λは"
   ]
  },
  {
   "cell_type": "markdown",
   "metadata": {},
   "source": [
    "$$\n",
    "\\lambda = 3, 2, 1\n",
    "$$"
   ]
  },
  {
   "cell_type": "markdown",
   "metadata": {},
   "source": [
    "となる。"
   ]
  },
  {
   "cell_type": "markdown",
   "metadata": {},
   "source": [
    "λ = 3のとき、"
   ]
  },
  {
   "cell_type": "markdown",
   "metadata": {},
   "source": [
    "$$\n",
    "\\left[\n",
    "    \\begin{matrix} 3 & 2 & 0 \\\\ 0 & 2 & 0 \\\\ 0 & 0 & 1 \\end{matrix}\n",
    "\\right]\n",
    "\\left[\n",
    "    \\begin{matrix} x_{1} \\\\ x_{2} \\\\ x_{3} \\end{matrix}\n",
    "\\right]\n",
    "=\n",
    "3\\left[\n",
    "    \\begin{matrix} x_{1} \\\\ x_{2} \\\\ x_{3} \\end{matrix}\n",
    "\\right]\n",
    "$$"
   ]
  },
  {
   "cell_type": "markdown",
   "metadata": {},
   "source": [
    "となるので、固有ベクトルは"
   ]
  },
  {
   "cell_type": "markdown",
   "metadata": {},
   "source": [
    "$$\n",
    "\\vec{x} =\n",
    "k \\left[\n",
    "    \\begin{matrix} 1 \\\\ 0 \\\\ 0 \\end{matrix}\n",
    "\\right]\n",
    "$$"
   ]
  },
  {
   "cell_type": "markdown",
   "metadata": {},
   "source": [
    "λ = 2のとき、"
   ]
  },
  {
   "cell_type": "markdown",
   "metadata": {},
   "source": [
    "$$\n",
    "\\left[\n",
    "    \\begin{matrix} 3 & 2 & 0 \\\\ 0 & 2 & 0 \\\\ 0 & 0 & 1 \\end{matrix}\n",
    "\\right]\n",
    "\\left[\n",
    "    \\begin{matrix} x_{1} \\\\ x_{2} \\\\ x_{3} \\end{matrix}\n",
    "\\right]\n",
    "=\n",
    "2\\left[\n",
    "    \\begin{matrix} x_{1} \\\\ x_{2} \\\\ x_{3} \\end{matrix}\n",
    "\\right]\n",
    "$$"
   ]
  },
  {
   "cell_type": "markdown",
   "metadata": {},
   "source": [
    "となるので、固有ベクトルは"
   ]
  },
  {
   "cell_type": "markdown",
   "metadata": {},
   "source": [
    "$$\n",
    "\\vec{x} =\n",
    "k \\left[\n",
    "    \\begin{matrix} 2 \\\\ -1 \\\\ 0 \\end{matrix}\n",
    "\\right]\n",
    "$$"
   ]
  },
  {
   "cell_type": "markdown",
   "metadata": {},
   "source": [
    "λ = 1のとき、"
   ]
  },
  {
   "cell_type": "markdown",
   "metadata": {},
   "source": [
    "$$\n",
    "\\left[\n",
    "    \\begin{matrix} 3 & 2 & 0 \\\\ 0 & 2 & 0 \\\\ 0 & 0 & 1 \\end{matrix}\n",
    "\\right]\n",
    "\\left[\n",
    "    \\begin{matrix} x_{1} \\\\ x_{2} \\\\ x_{3} \\end{matrix}\n",
    "\\right]\n",
    "=\n",
    "\\left[\n",
    "    \\begin{matrix} x_{1} \\\\ x_{2} \\\\ x_{3} \\end{matrix}\n",
    "\\right]\n",
    "$$"
   ]
  },
  {
   "cell_type": "markdown",
   "metadata": {},
   "source": [
    "となるので、固有ベクトルは"
   ]
  },
  {
   "cell_type": "markdown",
   "metadata": {},
   "source": [
    "$$\n",
    "\\vec{x} =\n",
    "k \\left[\n",
    "    \\begin{matrix} 0 \\\\ 0 \\\\ 1 \\end{matrix}\n",
    "\\right]\n",
    "$$"
   ]
  },
  {
   "cell_type": "markdown",
   "metadata": {},
   "source": [
    "となる。ここで、kは比例定数である。"
   ]
  },
  {
   "cell_type": "markdown",
   "metadata": {},
   "source": [
    "### 2) 固有値分解について理解を深める。"
   ]
  },
  {
   "cell_type": "markdown",
   "metadata": {},
   "source": [
    "#### 1-2-1 固有値分解"
   ]
  },
  {
   "cell_type": "markdown",
   "metadata": {},
   "source": [
    "[固有値分解](https://ja.wikipedia.org/wiki/%E5%9B%BA%E6%9C%89%E5%80%A4%E5%88%86%E8%A7%A3)とは、固有値に着目した行列の分解手法。ある実数を正方形に並べて作られた行列Aが固有値λ1, λ2, …と固有ベクトルv1, v2, …を持っていたとき、この固有値を対角線上に並べた行列（それ以外の成分は0）"
   ]
  },
  {
   "cell_type": "markdown",
   "metadata": {},
   "source": [
    "$$\n",
    "  \\varLambda = \\left[\n",
    "    \\begin{array}{cccc}\n",
    "      \\lambda_{1} & 0 & \\ldots & 0 \\\\\n",
    "      0 & \\lambda_{2} & \\ldots & 0 \\\\\n",
    "      \\vdots & \\vdots & \\ddots & \\vdots \\\\\n",
    "      0 & 0 & \\ldots & \\lambda_{n}\n",
    "    \\end{array}\n",
    "  \\right]\n",
    "$$"
   ]
  },
  {
   "cell_type": "markdown",
   "metadata": {},
   "source": [
    "とそれに対応する固有ベクトルを並べた行列"
   ]
  },
  {
   "cell_type": "markdown",
   "metadata": {},
   "source": [
    "$$\n",
    "  V = \\left[\n",
    "    \\begin{array}{cccc}\n",
    "      \\vec{v}_{1} & \\vec{v}_{2} & \\ldots & \\vec{v}_{n}\n",
    "    \\end{array}\n",
    "  \\right]\n",
    "$$"
   ]
  },
  {
   "cell_type": "markdown",
   "metadata": {},
   "source": [
    "を用意したとき、それらは"
   ]
  },
  {
   "cell_type": "markdown",
   "metadata": {},
   "source": [
    "$$\n",
    "    AV = V\\varLambda \n",
    "$$"
   ]
  },
  {
   "cell_type": "markdown",
   "metadata": {},
   "source": [
    "と関係づけられる。したがって"
   ]
  },
  {
   "cell_type": "markdown",
   "metadata": {},
   "source": [
    "$$\n",
    "    A = V\\varLambda V^{-1} \n",
    "$$"
   ]
  },
  {
   "cell_type": "markdown",
   "metadata": {},
   "source": [
    "と変形できる。このように正方形の行列を上述のような3つの行列の積に変換することを**固有値分解**という。この変換を用いることで累乗の計算が容易になる等の利点がある。"
   ]
  },
  {
   "cell_type": "markdown",
   "metadata": {},
   "source": [
    "#### 1-2-2 固有値分解 具体例"
   ]
  },
  {
   "cell_type": "markdown",
   "metadata": {},
   "source": [
    "＜具体例＞"
   ]
  },
  {
   "cell_type": "markdown",
   "metadata": {},
   "source": [
    "$$\n",
    "\\left[\n",
    "    \\begin{matrix} 1 & 4 \\\\ 2 & 3 \\end{matrix}\n",
    "\\right]\n",
    "=\n",
    "\\left[\n",
    "    \\begin{matrix} 1 & 1 \\\\ 1 & -1/2 \\end{matrix}\n",
    "\\right]\n",
    "\\left[\n",
    "    \\begin{matrix} 5 & 0 \\\\ 0 & -1 \\end{matrix}\n",
    "\\right]\n",
    "\\left[\n",
    "    \\begin{matrix} 1/3 & 2/3 \\\\ 2/3 & -2/3 \\end{matrix}\n",
    "\\right]\n",
    "$$"
   ]
  },
  {
   "cell_type": "markdown",
   "metadata": {},
   "source": [
    "＜例題＞"
   ]
  },
  {
   "cell_type": "markdown",
   "metadata": {},
   "source": [
    "#### 1-2-3 固有値分解 問題"
   ]
  },
  {
   "cell_type": "markdown",
   "metadata": {},
   "source": [
    "＜例題1-2-3_1＞"
   ]
  },
  {
   "cell_type": "markdown",
   "metadata": {},
   "source": [
    "$$\n",
    "\\left[\n",
    "    \\begin{matrix} 2 & 1 \\\\ 0 & 6 \\end{matrix}\n",
    "\\right]\n",
    "$$"
   ]
  },
  {
   "cell_type": "markdown",
   "metadata": {},
   "source": [
    "を固有値分解せよ。"
   ]
  },
  {
   "cell_type": "markdown",
   "metadata": {},
   "source": [
    "＜解答1-2-3_1＞"
   ]
  },
  {
   "cell_type": "markdown",
   "metadata": {},
   "source": [
    "標準形の行列式を解いて"
   ]
  },
  {
   "cell_type": "markdown",
   "metadata": {},
   "source": [
    "$$\n",
    "\\left|\n",
    "    \\begin{matrix} 2-\\lambda & 1 \\\\ 0 & 6-\\lambda \\end{matrix}\n",
    "\\right|\n",
    "= (2-\\lambda)(6-\\lambda) = 0\n",
    "$$"
   ]
  },
  {
   "cell_type": "markdown",
   "metadata": {},
   "source": [
    "$$\n",
    "    \\lambda = 2, 6\n",
    "$$"
   ]
  },
  {
   "cell_type": "markdown",
   "metadata": {},
   "source": [
    "λ=2のとき"
   ]
  },
  {
   "cell_type": "markdown",
   "metadata": {},
   "source": [
    "$$\n",
    "\\vec{x} =\n",
    "k \\left[\n",
    "    \\begin{matrix} 1 \\\\ 0 \\end{matrix}\n",
    "\\right]\n",
    "$$"
   ]
  },
  {
   "cell_type": "markdown",
   "metadata": {},
   "source": [
    "λ=6のとき"
   ]
  },
  {
   "cell_type": "markdown",
   "metadata": {},
   "source": [
    "$$\n",
    "\\vec{x} =\n",
    "k \\left[\n",
    "    \\begin{matrix} 1 \\\\ 4 \\end{matrix}\n",
    "\\right]\n",
    "$$"
   ]
  },
  {
   "cell_type": "markdown",
   "metadata": {},
   "source": [
    "が固有ベクトルとなる（ただし、kは比例定数）。そのため、元の行列を固有値分解すると以下のようになる。"
   ]
  },
  {
   "cell_type": "markdown",
   "metadata": {},
   "source": [
    "$$\n",
    "\\left[\n",
    "    \\begin{matrix} 2 & 1 \\\\ 0 & 6 \\end{matrix}\n",
    "\\right]\n",
    "=\n",
    "\\left[\n",
    "    \\begin{matrix} 1 & 1 \\\\ 0 & 4 \\end{matrix}\n",
    "\\right]\n",
    "\\left[\n",
    "    \\begin{matrix} 2 & 0 \\\\ 0 & 6 \\end{matrix}\n",
    "\\right]\n",
    "\\left[\n",
    "    \\begin{matrix} 1 & 1 \\\\ 0 & 4 \\end{matrix}\n",
    "\\right]^{-1}\n",
    "=\n",
    "\\left[\n",
    "    \\begin{matrix} 1 & 1 \\\\ 0 & 4 \\end{matrix}\n",
    "\\right]\n",
    "\\left[\n",
    "    \\begin{matrix} 2 & 0 \\\\ 0 & 6 \\end{matrix}\n",
    "\\right]\n",
    "\\left[\n",
    "    \\begin{matrix} 1 & -1/4 \\\\ 0 & 1/4 \\end{matrix}\n",
    "\\right]\n",
    "$$"
   ]
  },
  {
   "cell_type": "markdown",
   "metadata": {},
   "source": [
    "### 3) 特異値・特異ベクトルの概要を知る。"
   ]
  },
  {
   "cell_type": "markdown",
   "metadata": {},
   "source": [
    "#### 1-3-1 特異値分解"
   ]
  },
  {
   "cell_type": "markdown",
   "metadata": {},
   "source": [
    "[特異値分解](https://ja.wikipedia.org/wiki/%E7%89%B9%E7%95%B0%E5%80%A4%E5%88%86%E8%A7%A3)は線形代数学における複素数あるいは実数を成分とする行列に対する行列分解の一手法。ある非正方行列Mについて"
   ]
  },
  {
   "cell_type": "markdown",
   "metadata": {},
   "source": [
    "$$\n",
    "M\\vec{v} = \\sigma\\vec{u} \\\\\n",
    "M^{T}\\vec{u} = \\sigma\\vec{v}\n",
    "$$"
   ]
  },
  {
   "cell_type": "markdown",
   "metadata": {},
   "source": [
    "という特殊な単位ベクトルを定義できるとき、以下のように**特異値分解**できる。"
   ]
  },
  {
   "cell_type": "markdown",
   "metadata": {},
   "source": [
    "$$\n",
    "    M = USV^{-1} \n",
    "$$"
   ]
  },
  {
   "cell_type": "markdown",
   "metadata": {},
   "source": [
    "### 4) 特異値分解の概要を知る。"
   ]
  },
  {
   "cell_type": "markdown",
   "metadata": {},
   "source": [
    "#### 1-4-1 特異値の求め方"
   ]
  },
  {
   "cell_type": "markdown",
   "metadata": {},
   "source": [
    "$$\n",
    "MV = US \\\\\n",
    "M^{T}U = CS^{T} \\\\\n",
    "M = USV^{-1} \\\\\n",
    "M^{T} = VS^{T}U^{-1}\n",
    "$$"
   ]
  },
  {
   "cell_type": "markdown",
   "metadata": {},
   "source": [
    "これらの積は"
   ]
  },
  {
   "cell_type": "markdown",
   "metadata": {},
   "source": [
    "$$\n",
    "MM^{T} = USV^{-1}VS^{T}U^{-1} = USS^{T}U^{-1}\n",
    "$$"
   ]
  },
  {
   "cell_type": "markdown",
   "metadata": {},
   "source": [
    "つまりMM^Tを固有値分解すれば、その左特異ベクトル（ただし単位ベクトルからつくらなければならないことに注意）と特異値の2乗が求められることが分かる。"
   ]
  },
  {
   "cell_type": "markdown",
   "metadata": {},
   "source": [
    "#### 1-4-2 特異値の求め方 具体例"
   ]
  },
  {
   "cell_type": "markdown",
   "metadata": {},
   "source": [
    "＜具体例1-4-2_1＞"
   ]
  },
  {
   "cell_type": "markdown",
   "metadata": {},
   "source": [
    "$$\n",
    "M = \n",
    "\\left[\n",
    "    \\begin{matrix} 1 & 2 & 3 \\\\ 3 & 2 & 1 \\end{matrix}\n",
    "\\right]\n",
    "$$"
   ]
  },
  {
   "cell_type": "markdown",
   "metadata": {},
   "source": [
    "を特異値分解せよ。"
   ]
  },
  {
   "cell_type": "markdown",
   "metadata": {},
   "source": [
    "＜解答1-4-2_1＞"
   ]
  },
  {
   "cell_type": "markdown",
   "metadata": {},
   "source": [
    "$$\n",
    "MM^{T} = \n",
    "\\left[\n",
    "    \\begin{matrix} 1 & 2 & 3 \\\\ 3 & 2 & 1 \\end{matrix}\n",
    "\\right]\n",
    "\\left[\n",
    "    \\begin{matrix} 1 & 2 \\\\ 2 & 2 \\\\ 3 & 1 \\end{matrix}\n",
    "\\right]\n",
    "=\n",
    "\\left[\n",
    "    \\begin{matrix} 14 & 10 \\\\ 10 & 14 \\end{matrix}\n",
    "\\right]\n",
    "$$"
   ]
  },
  {
   "cell_type": "markdown",
   "metadata": {},
   "source": [
    "であるから、これを固有値分解して"
   ]
  },
  {
   "cell_type": "markdown",
   "metadata": {},
   "source": [
    "$$\n",
    "\\left[\n",
    "    \\begin{matrix} 14 & 10 \\\\ 10 & 14 \\end{matrix}\n",
    "\\right]\n",
    "=\n",
    "\\left[\n",
    "    \\begin{matrix} \\frac{1}{\\sqrt{2}} & -\\frac{1}{\\sqrt{2}} \\\\ \\frac{1}{\\sqrt{2}} & \\frac{1}{\\sqrt{2}} \\end{matrix}\n",
    "\\right]\n",
    "\\left[\n",
    "    \\begin{matrix} 24 & 0 \\\\ 0 & 4 \\end{matrix}\n",
    "\\right]\n",
    "\\left[\n",
    "    \\begin{matrix} \\frac{1}{\\sqrt{2}} & -\\frac{1}{\\sqrt{2}} \\\\ \\frac{1}{\\sqrt{2}} & \\frac{1}{\\sqrt{2}} \\end{matrix}\n",
    "\\right]^{-1}\n",
    "$$"
   ]
  },
  {
   "cell_type": "markdown",
   "metadata": {},
   "source": [
    "となる。また、"
   ]
  },
  {
   "cell_type": "markdown",
   "metadata": {},
   "source": [
    "$$\n",
    "M^{T}M = \n",
    "\\left[\n",
    "    \\begin{matrix} 1 & 2 \\\\ 2 & 2 \\\\ 3 & 1 \\end{matrix}\n",
    "\\right]\n",
    "\\left[\n",
    "    \\begin{matrix} 1 & 2 & 3 \\\\ 3 & 2 & 1 \\end{matrix}\n",
    "\\right]\n",
    "=\n",
    "\\left[\n",
    "    \\begin{matrix} 10 & 8 & 6 \\\\ 8 & 8 & 8 \\\\ 6 & 8 & 10 \\end{matrix}\n",
    "\\right]\n",
    "$$"
   ]
  },
  {
   "cell_type": "markdown",
   "metadata": {},
   "source": [
    "であるから、これを固有値分解して"
   ]
  },
  {
   "cell_type": "markdown",
   "metadata": {},
   "source": [
    "$$\n",
    "\\left[\n",
    "    \\begin{matrix} 10 & 8 & 6 \\\\ 8 & 8 & 8 \\\\ 6 & 8 & 10 \\end{matrix}\n",
    "\\right]\n",
    "=\n",
    "\\left[\n",
    "    \\begin{matrix} \\frac{1}{\\sqrt{3}} & \\frac{1}{\\sqrt{2}} & \\frac{1}{\\sqrt{6}} \\\\ \\frac{1}{\\sqrt{3}} & 0 & -\\frac{2}{\\sqrt{6}} \\\\ \\frac{1}{\\sqrt{3}} & -\\frac{1}{\\sqrt{2}} & \\frac{1}{\\sqrt{6}} \\end{matrix}\n",
    "\\right]\n",
    "\\left[\n",
    "    \\begin{matrix} 24 & 0 & 0 \\\\ 0 & 4 & 0 \\\\ 0 & 0 & 0 \\end{matrix}\n",
    "\\right]\n",
    "\\left[\n",
    "    \\begin{matrix} \\frac{1}{\\sqrt{3}} & \\frac{1}{\\sqrt{2}} & \\frac{1}{\\sqrt{6}} \\\\ \\frac{1}{\\sqrt{3}} & 0 & -\\frac{2}{\\sqrt{6}} \\\\ \\frac{1}{\\sqrt{3}} & -\\frac{1}{\\sqrt{2}} & \\frac{1}{\\sqrt{6}} \\end{matrix}\n",
    "\\right]^{-1}\n",
    "$$"
   ]
  },
  {
   "cell_type": "markdown",
   "metadata": {},
   "source": [
    "となるので、元の行列Mは以下のように特異値分解される。"
   ]
  },
  {
   "cell_type": "markdown",
   "metadata": {},
   "source": [
    "$$\n",
    "M = \n",
    "\\left[\n",
    "    \\begin{matrix} 1 & 2 & 3 \\\\ 3 & 2 & 1 \\end{matrix}\n",
    "\\right]\n",
    "=\n",
    "\\left[\n",
    "    \\begin{matrix} \\frac{1}{\\sqrt{2}} & -\\frac{1}{\\sqrt{2}} \\\\ \\frac{1}{\\sqrt{2}} & \\frac{1}{\\sqrt{2}} \\end{matrix}\n",
    "\\right]\n",
    "\\left[\n",
    "    \\begin{matrix} \\frac{2}{\\sqrt{6}} & 0 & 0 \\\\ 0 & 2 & 0 \\end{matrix}\n",
    "\\right]\n",
    "\\left[\n",
    "    \\begin{matrix} \\frac{1}{\\sqrt{3}} & \\frac{1}{\\sqrt{3}} & \\frac{1}{\\sqrt{3}} \\\\ \\frac{1}{\\sqrt{2}} & 0 & -\\frac{1}{\\sqrt{2}} \\\\ \\frac{1}{\\sqrt{6}} & -\\frac{2}{\\sqrt{6}} & \\frac{1}{\\sqrt{6}} \\end{matrix}\n",
    "\\right]\n",
    "$$"
   ]
  },
  {
   "cell_type": "markdown",
   "metadata": {},
   "source": [
    "特異値分解した画像データの行列から成分の小さい部分を取り除いていくとデータ量を小さくできる（低解像度化）。"
   ]
  },
  {
   "cell_type": "markdown",
   "metadata": {},
   "source": [
    "## 第二章　確率・統計"
   ]
  },
  {
   "cell_type": "markdown",
   "metadata": {},
   "source": [
    "<b>要約まとめ</b>"
   ]
  },
  {
   "cell_type": "markdown",
   "metadata": {},
   "source": [
    "<b>与えられたデータの特性を把握し未知のデータに対して予測を立てることは、平均や分散などの基本統計量から母集団の確率分布を推定する処理である。実際には初めの段階でデータが十分に揃っておらず、後からデータが追加されてくる場合などもある。ここで示すベイズ則は、このような追加情報が得られ事前情報を新たな事後情報へと更新する場合などに用いられており、機械学習と親和性が高い。</b>"
   ]
  },
  {
   "cell_type": "markdown",
   "metadata": {},
   "source": [
    "### 1) 条件付き確率について理解を深める。"
   ]
  },
  {
   "cell_type": "markdown",
   "metadata": {},
   "source": [
    "#### 2-1-1 確率"
   ]
  },
  {
   "cell_type": "markdown",
   "metadata": {},
   "source": [
    "・頻度確率（客観確率）・・・発生する頻度<br>\n",
    "・ベイズ確率（主観確率）・・・信念の度合い"
   ]
  },
  {
   "cell_type": "markdown",
   "metadata": {},
   "source": [
    "#### 2-1-2 条件付き確率"
   ]
  },
  {
   "cell_type": "markdown",
   "metadata": {},
   "source": [
    "ある事象X=xが与えられたもとで、Y=yとなる事象"
   ]
  },
  {
   "cell_type": "markdown",
   "metadata": {},
   "source": [
    "$$\n",
    "P(Y=y|X=x) = \n",
    "\\frac{P(Y=y, X=x)}{P(X=x)}\n",
    "$$"
   ]
  },
  {
   "cell_type": "markdown",
   "metadata": {},
   "source": [
    "#### 2-1-3 独立な事象の同時確率"
   ]
  },
  {
   "cell_type": "markdown",
   "metadata": {},
   "source": [
    "お互いの発生には因果関係のない事象X=xとY=yが同時に発生する確率"
   ]
  },
  {
   "cell_type": "markdown",
   "metadata": {},
   "source": [
    "$$\n",
    "P(X=x, Y=y) = P(X=x)P(Y=y) = P(Y=y,X=x)\n",
    "$$"
   ]
  },
  {
   "cell_type": "markdown",
   "metadata": {},
   "source": [
    "### 2) ベイズ則の概要を知る。"
   ]
  },
  {
   "cell_type": "markdown",
   "metadata": {},
   "source": [
    "#### 2-2-1 ベイズ則"
   ]
  },
  {
   "cell_type": "markdown",
   "metadata": {},
   "source": [
    "ある街の子供たちは毎日1/4の確率で飴玉をもらうことができる（P(A)=1/4）<br>\n",
    "飴玉をもらうと1/2の確率で笑顔になる（P(B|A)=1/2）<br>\n",
    "笑顔の子供が飴玉をもらっている確率を求める。<br>\n",
    "ただし、街の子供が笑顔でいる確率は1/3である（P(B)=1/3）。"
   ]
  },
  {
   "cell_type": "markdown",
   "metadata": {},
   "source": [
    "P(A∧B) = P(B|A)×P(A) = 1/2×1/4 = 1/8<br>\n",
    "P(A|B) = P(A∧B)/P(B) = (1/8) / (1/3) = 3/8"
   ]
  },
  {
   "cell_type": "markdown",
   "metadata": {},
   "source": [
    "#### 2-2-2 確率変数と確率分布"
   ]
  },
  {
   "cell_type": "markdown",
   "metadata": {},
   "source": [
    "確率変数・・・事象と結び付けられた数値。事象そのものをさすと解釈する場合も多い。<br>\n",
    "確率分布・・・事象の発生する確率の分布。離散地であれば表に示せる。"
   ]
  },
  {
   "cell_type": "markdown",
   "metadata": {},
   "source": [
    "### 3) 期待値・分散の求め方を確認する。"
   ]
  },
  {
   "cell_type": "markdown",
   "metadata": {},
   "source": [
    "#### 2-3-1 期待値"
   ]
  },
  {
   "cell_type": "markdown",
   "metadata": {},
   "source": [
    "その分布における、確率変数の平均の値 or 「ありえそう」な値"
   ]
  },
  {
   "cell_type": "markdown",
   "metadata": {},
   "source": [
    "#### 2-3-2 分散と共分散"
   ]
  },
  {
   "cell_type": "markdown",
   "metadata": {},
   "source": [
    "分散・・・データの散らばり具合。データの各々の値が、期待値からどれだけずれているのか平均したもの。<br>\n",
    "共分散・・・2つのデータ系列の傾向の違い。正の値を取れば似た傾向、負の値を取れば逆の傾向、0を取れば関係性に乏しい。"
   ]
  },
  {
   "cell_type": "markdown",
   "metadata": {},
   "source": [
    "#### 2-3-3 分散と標準偏差"
   ]
  },
  {
   "cell_type": "markdown",
   "metadata": {},
   "source": [
    "分散は2乗してしまっているので元のデータと単位が違う→平方根を取ることによって元の単位に戻す"
   ]
  },
  {
   "cell_type": "markdown",
   "metadata": {},
   "source": [
    "### 4) 様々な確率分布の概要を知る。"
   ]
  },
  {
   "cell_type": "markdown",
   "metadata": {},
   "source": [
    "#### 2-4-1 様々な確率分布Ⅰ"
   ]
  },
  {
   "cell_type": "markdown",
   "metadata": {},
   "source": [
    "ベルヌーイ分布・・・二者択一の確率事象を表す分布（コイントス等）<br>\n",
    "マルチヌーイ（カテゴリカル）分布・・・サイコロを転がすイメージ"
   ]
  },
  {
   "cell_type": "markdown",
   "metadata": {},
   "source": [
    "#### 2-4-2 様々な確率分布Ⅱ"
   ]
  },
  {
   "cell_type": "markdown",
   "metadata": {},
   "source": [
    "二項分布・・・ベルヌーイ分布の多試行版<br>\n",
    "ガウス分布・・・釣鐘型の連続分布"
   ]
  },
  {
   "cell_type": "markdown",
   "metadata": {},
   "source": [
    "## 第三章　情報理論"
   ]
  },
  {
   "cell_type": "markdown",
   "metadata": {},
   "source": [
    "<b>要点まとめ</b>"
   ]
  },
  {
   "cell_type": "markdown",
   "metadata": {},
   "source": [
    "<b>高確率で発生する出来事は情報量が低く、稀にしか発生しない出来事は情報量が高いとされる（例えば、さいころを複数回振った時の「1以外が続けて出る」事象よりも「1が連続して出る」事象の方がレアであり、情報量としては高い）。このような、確率 𝑝 で生起する事象が起きたことを知ったときに得られる情報量 I(p) を「自己情報量」といい、この自己情報量の期待値を「シャノンエントロピー」という。また、2つの確率分布間の再を計る尺度として用いられるのが「KLダイバージェンス」であり、これは「交差エントロピー」と「エントロピー」の差で求められる。</b>"
   ]
  },
  {
   "cell_type": "markdown",
   "metadata": {},
   "source": [
    "### 1) 自己情報量・シャノンエントロピーの定義を確認する。"
   ]
  },
  {
   "cell_type": "markdown",
   "metadata": {},
   "source": [
    "#### 3-1-1 自己情報量"
   ]
  },
  {
   "cell_type": "markdown",
   "metadata": {},
   "source": [
    "・対数の底が2のとき、単位はビット（bit）<br>\n",
    "・対数の底がネイピア数eのとき、単位はナット（nat）"
   ]
  },
  {
   "cell_type": "markdown",
   "metadata": {},
   "source": [
    "$$\n",
    "I(x) = -log(P(x)) = log(W(x))\n",
    "$$"
   ]
  },
  {
   "cell_type": "markdown",
   "metadata": {},
   "source": [
    "#### 3-1-2 シャノンエントロピー"
   ]
  },
  {
   "cell_type": "markdown",
   "metadata": {},
   "source": [
    "自己情報量の期待値"
   ]
  },
  {
   "cell_type": "markdown",
   "metadata": {},
   "source": [
    "$$\n",
    "H(x) = E(I(x)) = -E(log(P(x))) = -\\sum(P(x)log(P(x)))\n",
    "$$"
   ]
  },
  {
   "cell_type": "markdown",
   "metadata": {},
   "source": [
    "### 2) KLダイバージェンス・交差エントロピーの概要を知る。"
   ]
  },
  {
   "cell_type": "markdown",
   "metadata": {},
   "source": [
    "#### 3-2-1 カルバック・ライブラー ダイバージェンス"
   ]
  },
  {
   "cell_type": "markdown",
   "metadata": {},
   "source": [
    "同じ事象・確率変数における異なる確率分布P, Qの違いを表す。"
   ]
  },
  {
   "cell_type": "markdown",
   "metadata": {},
   "source": [
    "#### 3-2-2 交差エントロピー"
   ]
  },
  {
   "cell_type": "markdown",
   "metadata": {},
   "source": [
    "KLダイバージェンスの一部分を取り出したもの<br>\n",
    "Qについての自己情報量をPの分布で平均している。"
   ]
  },
  {
   "cell_type": "markdown",
   "metadata": {},
   "source": [
    "<div style=\"text-align: center;\">\n",
    "################################################################################################\n",
    "</div>"
   ]
  },
  {
   "cell_type": "markdown",
   "metadata": {},
   "source": [
    "## 演習問題"
   ]
  },
  {
   "cell_type": "markdown",
   "metadata": {},
   "source": [
    "### 第1章　ベクトルと行列の演算Ⅰ"
   ]
  },
  {
   "cell_type": "markdown",
   "metadata": {},
   "source": [
    "#### 1.1"
   ]
  },
  {
   "cell_type": "markdown",
   "metadata": {},
   "source": [
    "次のベクトル\n",
    "$$\n",
    "\\vec{a} =\n",
    "\\left[\n",
    "    \\begin{matrix} 1 \\\\ 6 \\\\ 3 \\end{matrix}\n",
    "\\right]\n",
    "  , \n",
    "\\vec{b} =\n",
    "\\left[\n",
    "    \\begin{matrix} 5 \\\\ 2 \\\\ 4 \\end{matrix}\n",
    "\\right]\n",
    "$$\n",
    "に関して、以下の計算をせよ。"
   ]
  },
  {
   "cell_type": "markdown",
   "metadata": {},
   "source": [
    "問 1.1.1 $$ \\vec{a} + \\vec{b} $$"
   ]
  },
  {
   "cell_type": "markdown",
   "metadata": {},
   "source": [
    "$$\n",
    "\\vec{a} + \\vec{b} =\n",
    "\\left[\n",
    "    \\begin{matrix} 1 \\\\ 6 \\\\ 3 \\end{matrix}\n",
    "\\right]\n",
    "+\n",
    "\\left[\n",
    "    \\begin{matrix} 5 \\\\ 2 \\\\ 4 \\end{matrix}\n",
    "\\right]\n",
    "=\n",
    "\\left[\n",
    "    \\begin{matrix} 6 \\\\ 8 \\\\ 7 \\end{matrix}\n",
    "\\right]\n",
    "$$"
   ]
  },
  {
   "cell_type": "code",
   "execution_count": 2,
   "metadata": {},
   "outputs": [
    {
     "name": "stdout",
     "output_type": "stream",
     "text": [
      "[6 8 7]\n"
     ]
    }
   ],
   "source": [
    "import numpy as np\n",
    "a = np.array([1, 6, 3])\n",
    "b = np.array([5, 2, 4])\n",
    "print(a + b)"
   ]
  },
  {
   "cell_type": "markdown",
   "metadata": {},
   "source": [
    "問 1.1.2 $$ \\vec{a} - \\vec{b} $$"
   ]
  },
  {
   "cell_type": "markdown",
   "metadata": {},
   "source": [
    "$$\n",
    "\\vec{a} + \\vec{b} =\n",
    "\\left[\n",
    "    \\begin{matrix} 1 \\\\ 6 \\\\ 3 \\end{matrix}\n",
    "\\right]\n",
    "-\n",
    "\\left[\n",
    "    \\begin{matrix} 5 \\\\ 2 \\\\ 4 \\end{matrix}\n",
    "\\right]\n",
    "=\n",
    "\\left[\n",
    "    \\begin{matrix} -4 \\\\ 4 \\\\ -1 \\end{matrix}\n",
    "\\right]\n",
    "$$"
   ]
  },
  {
   "cell_type": "code",
   "execution_count": 3,
   "metadata": {},
   "outputs": [
    {
     "name": "stdout",
     "output_type": "stream",
     "text": [
      "[-4  4 -1]\n"
     ]
    }
   ],
   "source": [
    "print(a - b)"
   ]
  },
  {
   "cell_type": "markdown",
   "metadata": {},
   "source": [
    "問 1.1.3 $$ 7*\\vec{a} $$"
   ]
  },
  {
   "cell_type": "markdown",
   "metadata": {},
   "source": [
    "$$\n",
    "7 * \\vec{a} =\n",
    "7 * \\left[\n",
    "    \\begin{matrix} 1 \\\\ 6 \\\\ 3 \\end{matrix}\n",
    "\\right]\n",
    "=\n",
    "\\left[\n",
    "    \\begin{matrix} 7 \\\\ 42 \\\\ 21 \\end{matrix}\n",
    "\\right]\n",
    "$$"
   ]
  },
  {
   "cell_type": "code",
   "execution_count": 4,
   "metadata": {},
   "outputs": [
    {
     "name": "stdout",
     "output_type": "stream",
     "text": [
      "[ 7 42 21]\n"
     ]
    }
   ],
   "source": [
    "print(7*a)"
   ]
  },
  {
   "cell_type": "markdown",
   "metadata": {},
   "source": [
    "問 1.1.4 $$ 8*(\\vec{a} + \\vec{b}) $$"
   ]
  },
  {
   "cell_type": "markdown",
   "metadata": {},
   "source": [
    "$$\n",
    "8 * (\\vec{a} + \\vec{b}) =\n",
    "8 * \\left[\n",
    "    \\begin{matrix} 6 \\\\ 8 \\\\ 7 \\end{matrix}\n",
    "\\right]\n",
    "=\n",
    "\\left[\n",
    "    \\begin{matrix} 48 \\\\ 64 \\\\ 56 \\end{matrix}\n",
    "\\right]\n",
    "$$"
   ]
  },
  {
   "cell_type": "code",
   "execution_count": 5,
   "metadata": {},
   "outputs": [
    {
     "name": "stdout",
     "output_type": "stream",
     "text": [
      "[48 64 56]\n"
     ]
    }
   ],
   "source": [
    "print(8*(a+b))"
   ]
  },
  {
   "cell_type": "markdown",
   "metadata": {},
   "source": [
    "#### 1.2"
   ]
  },
  {
   "cell_type": "markdown",
   "metadata": {},
   "source": [
    "次の行列\n",
    "$$\n",
    "A = \n",
    "\\left[\n",
    "    \\begin{matrix} 2 & 1 \\\\ 5 & 3 \\end{matrix}\n",
    "\\right]\n",
    "  , \n",
    "B = \n",
    "\\left[\n",
    "    \\begin{matrix} 1 & 4 \\\\ 1 & 5 \\end{matrix}\n",
    "\\right]\n",
    "$$\n",
    "に関して、以下の計算をせよ。"
   ]
  },
  {
   "cell_type": "markdown",
   "metadata": {},
   "source": [
    "問 1.2.1"
   ]
  },
  {
   "cell_type": "markdown",
   "metadata": {},
   "source": [
    "$$ A + B $$"
   ]
  },
  {
   "cell_type": "markdown",
   "metadata": {},
   "source": [
    "$$\n",
    "A + B = \n",
    "\\left[\n",
    "    \\begin{matrix} 2 & 1 \\\\ 5 & 3 \\end{matrix}\n",
    "\\right]\n",
    "+ \n",
    "\\left[\n",
    "    \\begin{matrix} 1 & 4 \\\\ 1 & 5 \\end{matrix}\n",
    "\\right]\n",
    "=\n",
    "\\left[\n",
    "    \\begin{matrix} 3 & 5 \\\\ 6 & 8 \\end{matrix}\n",
    "\\right]\n",
    "$$"
   ]
  },
  {
   "cell_type": "code",
   "execution_count": 8,
   "metadata": {},
   "outputs": [
    {
     "name": "stdout",
     "output_type": "stream",
     "text": [
      "[[3 5]\n",
      " [6 8]]\n"
     ]
    }
   ],
   "source": [
    "import numpy as np\n",
    "A = np.array([[2, 1],[5, 3]])\n",
    "B = np.array([[1, 4],[1, 5]])\n",
    "print(A + B)"
   ]
  },
  {
   "cell_type": "markdown",
   "metadata": {},
   "source": [
    "問 1.2.2"
   ]
  },
  {
   "cell_type": "markdown",
   "metadata": {},
   "source": [
    "$$ A - 3B $$"
   ]
  },
  {
   "cell_type": "markdown",
   "metadata": {},
   "source": [
    "$$\n",
    "A - 3*B = \n",
    "\\left[\n",
    "    \\begin{matrix} 2 & 1 \\\\ 5 & 3 \\end{matrix}\n",
    "\\right]\n",
    "- 3* \n",
    "\\left[\n",
    "    \\begin{matrix} 1 & 4 \\\\ 1 & 5 \\end{matrix}\n",
    "\\right]\n",
    "=\n",
    "\\left[\n",
    "    \\begin{matrix} -1 & -11 \\\\ 2 & -12 \\end{matrix}\n",
    "\\right]\n",
    "$$"
   ]
  },
  {
   "cell_type": "code",
   "execution_count": 9,
   "metadata": {},
   "outputs": [
    {
     "name": "stdout",
     "output_type": "stream",
     "text": [
      "[[ -1 -11]\n",
      " [  2 -12]]\n"
     ]
    }
   ],
   "source": [
    "print(A - 3*B)"
   ]
  },
  {
   "cell_type": "markdown",
   "metadata": {},
   "source": [
    "### 第2章 ベクトルと行列の演算Ⅱ"
   ]
  },
  {
   "cell_type": "markdown",
   "metadata": {},
   "source": [
    "#### 2.1"
   ]
  },
  {
   "cell_type": "markdown",
   "metadata": {},
   "source": [
    "次のベクトルと行列\n",
    "$$\n",
    "\\vec{v} =\n",
    "\\left[\n",
    "    \\begin{matrix} 1 \\\\ 0 \\\\ 3 \\end{matrix}\n",
    "\\right]\n",
    "  , \n",
    "A = \n",
    "\\left[\n",
    "    \\begin{matrix} 1 & 3 & 4 \\\\ 5 & 9 & 0 \\\\ 3 & 1 & 2 \\end{matrix}\n",
    "\\right]\n",
    "  , \n",
    "B = \n",
    "\\left[\n",
    "    \\begin{matrix} 1 & 0 & 3 \\\\ 0 & 2 & 5 \\end{matrix}\n",
    "\\right]\n",
    "$$\n",
    "に関して、以下の計算をせよ。"
   ]
  },
  {
   "cell_type": "markdown",
   "metadata": {},
   "source": [
    "問 2.1.1"
   ]
  },
  {
   "cell_type": "markdown",
   "metadata": {},
   "source": [
    "$$ A * \\vec{v} $$"
   ]
  },
  {
   "cell_type": "markdown",
   "metadata": {},
   "source": [
    "$$ A * \\vec{v} = \n",
    "\\left[\n",
    "    \\begin{matrix} 1 & 3 & 4 \\\\ 5 & 9 & 0 \\\\ 3 & 1 & 2 \\end{matrix}\n",
    "\\right]\n",
    "\\left[\n",
    "    \\begin{matrix} 1 \\\\ 0 \\\\ 3 \\end{matrix}\n",
    "\\right]\n",
    "=\n",
    "\\left[\n",
    "    \\begin{matrix} 13 \\\\ 5 \\\\ 9 \\end{matrix}\n",
    "\\right]\n",
    "$$"
   ]
  },
  {
   "cell_type": "code",
   "execution_count": 20,
   "metadata": {},
   "outputs": [
    {
     "name": "stdout",
     "output_type": "stream",
     "text": [
      "[[13]\n",
      " [ 5]\n",
      " [ 9]]\n"
     ]
    }
   ],
   "source": [
    "import numpy as np\n",
    "v = np.array([[1], [0], [3]])\n",
    "A = np.array([[1, 3, 4],[5, 9, 0],[3, 1, 2]])\n",
    "B = np.array([[1, 0, 3],[0, 2, 5]])\n",
    "print(A @ v)"
   ]
  },
  {
   "cell_type": "markdown",
   "metadata": {},
   "source": [
    "問 2.1.2"
   ]
  },
  {
   "cell_type": "markdown",
   "metadata": {},
   "source": [
    "$$ B * \\vec{v} $$"
   ]
  },
  {
   "cell_type": "markdown",
   "metadata": {},
   "source": [
    "$$ B * \\vec{v} = \n",
    "\\left[\n",
    "    \\begin{matrix} 1 & 0 & 3 \\\\ 0 & 2 & 5 \\end{matrix}\n",
    "\\right]\n",
    "\\left[\n",
    "    \\begin{matrix} 1 \\\\ 0 \\\\ 3 \\end{matrix}\n",
    "\\right]\n",
    "=\n",
    "\\left[\n",
    "    \\begin{matrix} 10 \\\\ 15 \\end{matrix}\n",
    "\\right]\n",
    "$$"
   ]
  },
  {
   "cell_type": "code",
   "execution_count": 21,
   "metadata": {},
   "outputs": [
    {
     "name": "stdout",
     "output_type": "stream",
     "text": [
      "[[10]\n",
      " [15]]\n"
     ]
    }
   ],
   "source": [
    "print(B @ v)"
   ]
  },
  {
   "cell_type": "markdown",
   "metadata": {},
   "source": [
    "問 2.1.3"
   ]
  },
  {
   "cell_type": "markdown",
   "metadata": {},
   "source": [
    "$$ BA $$"
   ]
  },
  {
   "cell_type": "markdown",
   "metadata": {},
   "source": [
    "$$ BA = \n",
    "\\left[\n",
    "    \\begin{matrix} 1 & 0 & 3 \\\\ 0 & 2 & 5 \\end{matrix}\n",
    "\\right]\n",
    "\\left[\n",
    "    \\begin{matrix} 1 & 3 & 4 \\\\ 5 & 9 & 0 \\\\ 3 & 1 & 2 \\end{matrix}\n",
    "\\right]\n",
    "=\n",
    "\\left[\n",
    "    \\begin{matrix} 10 & 6 & 10 \\\\ 25 & 23 & 10 \\end{matrix}\n",
    "\\right]\n",
    "$$"
   ]
  },
  {
   "cell_type": "code",
   "execution_count": 22,
   "metadata": {},
   "outputs": [
    {
     "name": "stdout",
     "output_type": "stream",
     "text": [
      "[[10  6 10]\n",
      " [25 23 10]]\n"
     ]
    }
   ],
   "source": [
    "print(B @ A)"
   ]
  },
  {
   "cell_type": "markdown",
   "metadata": {},
   "source": [
    "問 2.1.4"
   ]
  },
  {
   "cell_type": "markdown",
   "metadata": {},
   "source": [
    "$$ B^{T} $$"
   ]
  },
  {
   "cell_type": "markdown",
   "metadata": {},
   "source": [
    "$$\n",
    "B^{T} = \n",
    "\\left[\n",
    "    \\begin{matrix} 1 & 0 \\\\ 0 & 2 \\\\ 3 & 5 \\end{matrix}\n",
    "\\right]\n",
    "$$"
   ]
  },
  {
   "cell_type": "code",
   "execution_count": 23,
   "metadata": {},
   "outputs": [
    {
     "name": "stdout",
     "output_type": "stream",
     "text": [
      "[[1 0]\n",
      " [0 2]\n",
      " [3 5]]\n"
     ]
    }
   ],
   "source": [
    "print(B.T)"
   ]
  },
  {
   "cell_type": "markdown",
   "metadata": {},
   "source": [
    "#### 2.2"
   ]
  },
  {
   "cell_type": "markdown",
   "metadata": {},
   "source": [
    "次の行列\n",
    "$$\n",
    "A = \n",
    "\\left[\n",
    "    \\begin{matrix} 2 & 1 \\\\ 4 & 1 \\end{matrix}\n",
    "\\right]\n",
    "  , \n",
    "B = \n",
    "\\left[\n",
    "    \\begin{matrix} 1 & 3 \\\\ 3 & 1 \\end{matrix}\n",
    "\\right]\n",
    "$$\n",
    "に関して、以下の計算をせよ。"
   ]
  },
  {
   "cell_type": "markdown",
   "metadata": {},
   "source": [
    "問 2.2.1"
   ]
  },
  {
   "cell_type": "markdown",
   "metadata": {},
   "source": [
    "$$ AB $$"
   ]
  },
  {
   "cell_type": "markdown",
   "metadata": {},
   "source": [
    "$$\n",
    "AB = \n",
    "\\left[\n",
    "    \\begin{matrix} 2 & 1 \\\\ 4 & 1 \\end{matrix}\n",
    "\\right]\n",
    "\\left[\n",
    "    \\begin{matrix} 1 & 3 \\\\ 3 & 1 \\end{matrix}\n",
    "\\right]\n",
    "=\n",
    "\\left[\n",
    "    \\begin{matrix} 5 & 7 \\\\ 7 & 13 \\end{matrix}\n",
    "\\right]\n",
    "$$"
   ]
  },
  {
   "cell_type": "code",
   "execution_count": 24,
   "metadata": {},
   "outputs": [
    {
     "name": "stdout",
     "output_type": "stream",
     "text": [
      "[[ 5  7]\n",
      " [ 7 13]]\n"
     ]
    }
   ],
   "source": [
    "import numpy as np\n",
    "A = np.array([[2, 1],[4, 1]])\n",
    "B = np.array([[1, 3],[3, 1]])\n",
    "print(A @ B)"
   ]
  },
  {
   "cell_type": "markdown",
   "metadata": {},
   "source": [
    "問 2.2.2"
   ]
  },
  {
   "cell_type": "markdown",
   "metadata": {},
   "source": [
    "$$ A^{-1} $$"
   ]
  },
  {
   "cell_type": "markdown",
   "metadata": {},
   "source": [
    "$$\n",
    "A^{-1} = \n",
    "\\left[\n",
    "    \\begin{matrix} -1/2 & 1/2 \\\\ 2 & -1 \\end{matrix}\n",
    "\\right]\n",
    "$$"
   ]
  },
  {
   "cell_type": "code",
   "execution_count": 25,
   "metadata": {},
   "outputs": [
    {
     "name": "stdout",
     "output_type": "stream",
     "text": [
      "[[-0.5  0.5]\n",
      " [ 2.  -1. ]]\n"
     ]
    }
   ],
   "source": [
    "print(np.linalg.inv(A))"
   ]
  },
  {
   "cell_type": "markdown",
   "metadata": {},
   "source": [
    "問 2.2.3"
   ]
  },
  {
   "cell_type": "markdown",
   "metadata": {},
   "source": [
    "$$ B^{-1} $$"
   ]
  },
  {
   "cell_type": "markdown",
   "metadata": {},
   "source": [
    "$$\n",
    "B^{-1} = \n",
    "\\left[\n",
    "    \\begin{matrix} -1/8 & 3/8 \\\\ 3/8 & -1/8 \\end{matrix}\n",
    "\\right]\n",
    "$$"
   ]
  },
  {
   "cell_type": "code",
   "execution_count": 26,
   "metadata": {},
   "outputs": [
    {
     "name": "stdout",
     "output_type": "stream",
     "text": [
      "[[-0.125  0.375]\n",
      " [ 0.375 -0.125]]\n"
     ]
    }
   ],
   "source": [
    "print(np.linalg.inv(B))"
   ]
  },
  {
   "cell_type": "markdown",
   "metadata": {},
   "source": [
    "問 2.2.4"
   ]
  },
  {
   "cell_type": "markdown",
   "metadata": {},
   "source": [
    "$$ BAB^{-1} $$"
   ]
  },
  {
   "cell_type": "markdown",
   "metadata": {},
   "source": [
    "$$\n",
    "BAB^{-1} = \n",
    "\\left[\n",
    "    \\begin{matrix} 1 & 3 \\\\ 3 & 1 \\end{matrix}\n",
    "\\right]\n",
    "\\left[\n",
    "    \\begin{matrix} 2 & 1 \\\\ 4 & 1 \\end{matrix}\n",
    "\\right]\n",
    "\\left[\n",
    "    \\begin{matrix} -1/8 & 3/8 \\\\ 3/8 & -1/8 \\end{matrix}\n",
    "\\right]\n",
    "=\n",
    "\\left[\n",
    "    \\begin{matrix} -1/4 & 4+3/4 \\\\ 1/4 & 3+1/4 \\end{matrix}\n",
    "\\right]\n",
    "$$"
   ]
  },
  {
   "cell_type": "code",
   "execution_count": 27,
   "metadata": {},
   "outputs": [
    {
     "name": "stdout",
     "output_type": "stream",
     "text": [
      "[[-0.25  4.75]\n",
      " [ 0.25  3.25]]\n"
     ]
    }
   ],
   "source": [
    "print(B @ A @ np.linalg.inv(B))"
   ]
  },
  {
   "cell_type": "markdown",
   "metadata": {},
   "source": [
    "### 第3章 確率変数と確率分布"
   ]
  },
  {
   "cell_type": "markdown",
   "metadata": {},
   "source": [
    "問 3.1"
   ]
  },
  {
   "cell_type": "markdown",
   "metadata": {},
   "source": [
    "試行の結果として起こる事象に整数や実数の数値が結び付けられているときに、その数値を「確率変数」という。<br>\n",
    "次の選択肢のうち、確率変数として適当なものはどれか。すべて選べ。"
   ]
  },
  {
   "cell_type": "markdown",
   "metadata": {},
   "source": [
    "a. さいころを振ったときに出た目の数<br>\n",
    "b. 3枚のコインを同時に投げて裏表どちらが出るか試行した時のコインの枚数<br>\n",
    "c. 赤, 青, 黄の3色のボールが壺の中に入っている。個々から1個を取り出した時の色<br>\n",
    "d. 8本のうち1本が当たりであるくじを、当たりが出るまで抽選し続けた時の回数"
   ]
  },
  {
   "cell_type": "markdown",
   "metadata": {},
   "source": [
    "→aとd<br>\n",
    "bは試行結果と無関係なので確率変数ではない<br>\n",
    "cは数値と結びついていないので確率変数ではない"
   ]
  },
  {
   "cell_type": "markdown",
   "metadata": {},
   "source": [
    "問 3.2"
   ]
  },
  {
   "cell_type": "markdown",
   "metadata": {},
   "source": [
    "4枚のコインを同時に投げる試行を1200回行ったとして、下表を埋めよ。"
   ]
  },
  {
   "cell_type": "markdown",
   "metadata": {},
   "source": [
    "| 事象 | 裏が0枚,<br>表が4枚 | 裏が1枚,<br>表が3枚 | 裏が2枚,<br>表が2枚 | 裏が3枚,<br>表が1枚 | 裏が4枚,<br>表が0枚 |\n",
    "| ---- | ---- | ---- | ---- | ---- | ---- |\n",
    "| 確率変数（裏を0,<br>表を1と対応させ<br>和を取った） | 4 | 3 | 2 | 1 | 0 |\n",
    "| 事象が発生した回数 | 75 | 300 | 450 | 300 | 75 |\n",
    "| 事象と対応する確率 | 1/16 | 4/16 | 6/16 | 4/16 | 1/16 |"
   ]
  },
  {
   "cell_type": "markdown",
   "metadata": {},
   "source": [
    "### 第4章 情報量"
   ]
  },
  {
   "cell_type": "markdown",
   "metadata": {},
   "source": [
    "4.1"
   ]
  },
  {
   "cell_type": "markdown",
   "metadata": {},
   "source": [
    "問 4.1.1　1枚のコインを1回投げて表が出たという事象の情報量は何bitか。"
   ]
  },
  {
   "cell_type": "markdown",
   "metadata": {},
   "source": [
    "$$\n",
    "I = -log_{2}(p(X)) = -log_{2}(1/2) = 1(bit)\n",
    "$$"
   ]
  },
  {
   "cell_type": "markdown",
   "metadata": {},
   "source": [
    "問 4.1.2　2枚のコインを1回投げてすべて表が出たという事象の情報量は何bitか。"
   ]
  },
  {
   "cell_type": "markdown",
   "metadata": {},
   "source": [
    "$$\n",
    "I = -log_{2}(p(X)) = -log_{2}(1/2 * 1/2) = 2(bit)\n",
    "$$"
   ]
  },
  {
   "cell_type": "markdown",
   "metadata": {},
   "source": [
    "問 4.1.3　n枚のコインを1回投げて1枚の表が出たという事象の情報量は何bitか。"
   ]
  },
  {
   "cell_type": "markdown",
   "metadata": {},
   "source": [
    "$$\n",
    "I = -log_{2}(p(X)) = -log_{2}(n * (1/2)^{n}) = -log_{2}(n) + n(bit)\n",
    "$$"
   ]
  },
  {
   "cell_type": "markdown",
   "metadata": {},
   "source": [
    "### 第5章 条件付き確率"
   ]
  },
  {
   "cell_type": "markdown",
   "metadata": {},
   "source": [
    "問 5.1"
   ]
  },
  {
   "cell_type": "markdown",
   "metadata": {},
   "source": [
    "1年のうち洗濯物を干していた日数を60日、洗濯物を干していてかつ雨が降ってきた日数を12日として、ある年における、洗濯物を干していた日という条件下で、雨が降ってきた日の発生する確率と、洗濯物を干していてかつ雨が降ってきた日の発生する確率を求めよ。"
   ]
  },
  {
   "cell_type": "markdown",
   "metadata": {},
   "source": [
    "事象A：洗濯物を干す<br>\n",
    "事象B：雨が降る"
   ]
  },
  {
   "cell_type": "markdown",
   "metadata": {},
   "source": [
    "$$ P(A) = \\frac{60}{365} $$\n",
    "$$ P(A \\cap B) = \\frac{12}{365} $$\n",
    "$$ P(A | B) = \\frac{P(A \\cap B)}{P(A)} = \\frac{\\frac{12}{365}}{\\frac{60}{365}} = \\frac{1}{5}$$"
   ]
  },
  {
   "cell_type": "markdown",
   "metadata": {},
   "source": [
    "問 5.2"
   ]
  },
  {
   "cell_type": "markdown",
   "metadata": {},
   "source": [
    "袋の中に赤い玉3個と白い玉2個が入っている。赤い玉はA, B, Cの文字が、白い玉にはA, Bの文字が、それぞれ1個に対して1文字ずつ記されている。以下の問いに答えよ。"
   ]
  },
  {
   "cell_type": "markdown",
   "metadata": {},
   "source": [
    "問 5.2.1"
   ]
  },
  {
   "cell_type": "markdown",
   "metadata": {},
   "source": [
    "出てきた玉が赤色であったとき、それに記されている文字がBである確率。"
   ]
  },
  {
   "cell_type": "markdown",
   "metadata": {},
   "source": [
    "事象A：出てきた玉が赤色である。<br>\n",
    "事象B：出てきた玉に記されている文字がB。"
   ]
  },
  {
   "cell_type": "markdown",
   "metadata": {},
   "source": [
    "$$ P(A) = \\frac{3}{5} $$\n",
    "$$ P(B) = \\frac{2}{5} $$\n",
    "$$ P(A \\cap B ) = \\frac{1}{5} $$\n",
    "$$ P(A | B) = \\frac{P(A \\cap B )}{P(A)} = \\frac{\\frac{1}{5}}{\\frac{3}{5}} = \\frac{1}{3} $$"
   ]
  },
  {
   "cell_type": "markdown",
   "metadata": {},
   "source": [
    "問 5.2.2"
   ]
  },
  {
   "cell_type": "markdown",
   "metadata": {},
   "source": [
    "出てきた玉に記されている文字がAであったとき、その玉の色が白色である確率。"
   ]
  },
  {
   "cell_type": "markdown",
   "metadata": {},
   "source": [
    "事象A：出てきた玉に記されている文字がA。<br>\n",
    "事象B：出てきた玉が白色。"
   ]
  },
  {
   "cell_type": "markdown",
   "metadata": {},
   "source": [
    "$$ P(A) = \\frac{2}{5} $$\n",
    "$$ P(B) = \\frac{2}{5} $$\n",
    "$$ P(A \\cap B) = \\frac{1}{5} $$\n",
    "$$ P(A | B) = \\frac{P(A \\cap B)}{P(A)} = \\frac{\\frac{1}{5}}{\\frac{2}{5}} = \\frac{1}{2}$$"
   ]
  },
  {
   "cell_type": "markdown",
   "metadata": {},
   "source": [
    "### 第6章 対数と乗算除算の関係"
   ]
  },
  {
   "cell_type": "markdown",
   "metadata": {},
   "source": [
    "問 6.1"
   ]
  },
  {
   "cell_type": "markdown",
   "metadata": {},
   "source": [
    "実数X, A, Bに対して X = AB という関係が成り立っているとき、"
   ]
  },
  {
   "cell_type": "markdown",
   "metadata": {},
   "source": [
    "$$ \\log (X) = \\log (AB) = \\log (A) + \\log (B) $$"
   ]
  },
  {
   "cell_type": "markdown",
   "metadata": {},
   "source": [
    "問 6.2"
   ]
  },
  {
   "cell_type": "markdown",
   "metadata": {},
   "source": [
    "X = A/B のとき、"
   ]
  },
  {
   "cell_type": "markdown",
   "metadata": {},
   "source": [
    "$$ \\log (X) = \\log (\\frac{A}{B}) = \\log (A) - \\log (B) $$"
   ]
  },
  {
   "cell_type": "markdown",
   "metadata": {},
   "source": [
    "問 6.3"
   ]
  },
  {
   "cell_type": "markdown",
   "metadata": {},
   "source": [
    "実数X, x1, x2, x3, x4に対して X=x1x2x3x4 という関係が成り立っているとき、"
   ]
  },
  {
   "cell_type": "markdown",
   "metadata": {},
   "source": [
    "$$ \\log(X) = \\log(x_{1}x_{2}x_{3}x_{4}) = \\log(x_{1}) + \\log(x_{2}) + \\log(x_{3}) + \\log(x_{4}) = \\sum_{i=1}^{4}\\log(x_{i})$$"
   ]
  },
  {
   "cell_type": "markdown",
   "metadata": {},
   "source": [
    "### 第7章 確認テスト"
   ]
  },
  {
   "cell_type": "markdown",
   "metadata": {},
   "source": [
    "問 7.1"
   ]
  },
  {
   "cell_type": "markdown",
   "metadata": {},
   "source": [
    "次のベクトルの和を求めよ。"
   ]
  },
  {
   "cell_type": "markdown",
   "metadata": {},
   "source": [
    "$$\n",
    "\\vec{a} + \\vec{b} =\n",
    "\\left[\n",
    "    \\begin{matrix} 2 \\\\ 6 \\\\ 3 \\end{matrix}\n",
    "\\right]\n",
    "+\n",
    "\\left[\n",
    "    \\begin{matrix} 1 \\\\ 1 \\\\ 4 \\end{matrix}\n",
    "\\right]\n",
    "=\n",
    "\\left[\n",
    "    \\begin{matrix} 3 \\\\ 7 \\\\ 7 \\end{matrix}\n",
    "\\right]\n",
    "$$"
   ]
  },
  {
   "cell_type": "markdown",
   "metadata": {},
   "source": [
    "問 7.2"
   ]
  },
  {
   "cell_type": "markdown",
   "metadata": {},
   "source": [
    "行列(1 4;2 3)の固有ベクトル(1; 1)に対応する固有値を求めよ。"
   ]
  },
  {
   "cell_type": "markdown",
   "metadata": {},
   "source": [
    "$$\n",
    "\\left[\n",
    "    \\begin{matrix} 1 & 4 \\\\ 2 & 3 \\end{matrix}\n",
    "\\right]\n",
    "\\left[\n",
    "    \\begin{matrix} 1 \\\\ 1 \\end{matrix}\n",
    "\\right]\n",
    "= 5 *\n",
    "\\left[\n",
    "    \\begin{matrix} 1 \\\\ 1 \\end{matrix}\n",
    "\\right]\n",
    "$$"
   ]
  },
  {
   "cell_type": "markdown",
   "metadata": {},
   "source": [
    "$$ \\lambda = 5 $$"
   ]
  },
  {
   "cell_type": "markdown",
   "metadata": {},
   "source": [
    "問 7.3"
   ]
  },
  {
   "cell_type": "markdown",
   "metadata": {},
   "source": [
    "離散的な確率分布P(x)の下でのある確率変数f(x)の期待値"
   ]
  },
  {
   "cell_type": "markdown",
   "metadata": {},
   "source": [
    "$$ E(f) = \\Sigma P(x)f(x) $$"
   ]
  },
  {
   "cell_type": "markdown",
   "metadata": {},
   "source": [
    "問 7.4"
   ]
  },
  {
   "cell_type": "markdown",
   "metadata": {},
   "source": [
    "ある確率変数f(x)の分散"
   ]
  },
  {
   "cell_type": "markdown",
   "metadata": {},
   "source": [
    "$$ Var(f) = E(( f(x) - E(f(x)) )^{2}) = E(f(x)^{2}) - E(f(x))^{2} $$"
   ]
  },
  {
   "cell_type": "markdown",
   "metadata": {},
   "source": [
    "問 7.5"
   ]
  },
  {
   "cell_type": "markdown",
   "metadata": {},
   "source": [
    "ある離散的な事象の確率分布をP(x)としたときのシャノンエントロピー"
   ]
  },
  {
   "cell_type": "markdown",
   "metadata": {},
   "source": [
    "$$ -\\Sigma P(x)\\log(P(x)) $$"
   ]
  }
 ],
 "metadata": {
  "kernelspec": {
   "display_name": "Python 3",
   "language": "python",
   "name": "python3"
  },
  "language_info": {
   "codemirror_mode": {
    "name": "ipython",
    "version": 3
   },
   "file_extension": ".py",
   "mimetype": "text/x-python",
   "name": "python",
   "nbconvert_exporter": "python",
   "pygments_lexer": "ipython3",
   "version": "3.8.5"
  }
 },
 "nbformat": 4,
 "nbformat_minor": 4
}
